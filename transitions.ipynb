{
 "cells": [
  {
   "cell_type": "code",
   "execution_count": 1,
   "id": "c1f00e5f",
   "metadata": {},
   "outputs": [],
   "source": [
    "import Mix50\n",
    "from Mix50.effects import Effects\n",
    "from Mix50.features import Features\n",
    "from Mix50.process import Process\n",
    "\n",
    "\n",
    "class Transitions():\n",
    "    \n",
    "    def __init__(self):\n",
    "        \n",
    "        pass\n",
    "    \n",
    "    \n",
    "    def set_audio(self, path1, y1, sr1, path2, y2=None, sr2=None):\n",
    "        '''\n",
    "        Set the audio from our mixfifty module\n",
    "        '''\n",
    "        #Set variables\n",
    "        self.y1 = y1\n",
    "        self.sr1 = sr1\n",
    "        self.path1 = path1\n",
    "        self.y2 = y2\n",
    "        self.sr2 = sr2\n",
    "        self.path2 = path2\n",
    "  \n",
    "        #Create feature instances to use for our transition calculations\n",
    "        #Set audio for the feature conditions. Is there a better way to do this?\n",
    "        self.features1 = Features().set_audio(self.path1,self.y1,self.sr1)\n",
    "        self.features2 = Features().set_audio(self.path2,self.y2,self.sr2)\n",
    "\n",
    "\n",
    "    \n",
    "    def crossfade_highpass(self):\n",
    "        \n",
    "        \n",
    "        #EDITING THE FIRST SONG --> speeds it up and fades it out\n",
    "        \n",
    "        start_time2 = marker2[marker2.loop_cues.notna()].loop_cues.values.tolist()[-4]\n",
    "        end_time2 = marker2[marker2.loop_cues.notna()].loop_cues.values.tolist()[-2]\n",
    "        fade_dur2 = 20\n",
    "        bpm2 = marker2.bpm[0]\n",
    "        bpm1 = marker1.bpm[0]\n",
    "\n",
    "        audio2 = speed_control(y2, sr2, start_time2, end_time2, bpm2, bpm1)\n",
    "        audio2 = highpass_control(audio2,sr2, start_time2, end_time2, 250,5)\n",
    "        audio2 = fade_out(audio2,end_time2, fade_dur2)\n",
    "\n",
    "        #EDITING THE SECOND SONG\n",
    "        fade_dur1 = 10\n",
    "\n",
    "        audio1 = fade_in(y1,0.00,fade_dur1)\n",
    "\n",
    "        df3 = markers(audio2)\n",
    "        segment2 = df3[df3.loop_cues >= start_time2].loop_cues.values.tolist()[1]\n",
    "\n",
    "        part_2_beg = list(audio2[:int(22050 * segment2)])\n",
    "        part_2_end = list(audio2[int(22050 * segment2):])\n",
    "\n",
    "        part_2_end_len = len(part_2_end)\n",
    "\n",
    "\n",
    "        part_1_beg = list(audio1[:int(part_2_end_len)])\n",
    "        part_1_end = list(audio1[int(part_2_end_len):])\n",
    "\n",
    "        overlay = np.array(part_2_end) + np.array(part_1_beg)\n",
    "        full_audio = list(part_2_beg) + list(overlay) + list(part_1_end)\n",
    "\n",
    "        return full_audio"
   ]
  },
  {
   "cell_type": "code",
   "execution_count": 2,
   "id": "38c95349",
   "metadata": {},
   "outputs": [],
   "source": [
    "path1 = '/users/seanmullins333/desktop/ksd.mp3'\n",
    "path2 = '/users/seanmullins333/desktop/ms.mp3'\n",
    "\n",
    "mf = Mix50.MixFifty()\n",
    "\n",
    "mf.load_audio(path1,path2)\n",
    "\n"
   ]
  },
  {
   "cell_type": "code",
   "execution_count": 7,
   "id": "5e04bc6c",
   "metadata": {
    "collapsed": true
   },
   "outputs": [
    {
     "name": "stderr",
     "output_type": "stream",
     "text": [
      "/Library/Frameworks/Python.framework/Versions/3.11/lib/python3.11/site-packages/sklearn/cluster/_kmeans.py:870: FutureWarning: The default value of `n_init` will change from 10 to 'auto' in 1.4. Set the value of `n_init` explicitly to suppress the warning\n",
      "  warnings.warn(\n",
      "/Library/Frameworks/Python.framework/Versions/3.11/lib/python3.11/site-packages/sklearn/cluster/_kmeans.py:870: FutureWarning: The default value of `n_init` will change from 10 to 'auto' in 1.4. Set the value of `n_init` explicitly to suppress the warning\n",
      "  warnings.warn(\n"
     ]
    },
    {
     "ename": "TypeError",
     "evalue": "'method' object is not subscriptable",
     "output_type": "error",
     "traceback": [
      "\u001b[0;31m---------------------------------------------------------------------------\u001b[0m",
      "\u001b[0;31mTypeError\u001b[0m                                 Traceback (most recent call last)",
      "Cell \u001b[0;32mIn[7], line 3\u001b[0m\n\u001b[1;32m      1\u001b[0m beats1 \u001b[38;5;241m=\u001b[39m mf\u001b[38;5;241m.\u001b[39mtransitions\u001b[38;5;241m.\u001b[39mfeatures1\u001b[38;5;241m.\u001b[39mbeats()\n\u001b[1;32m      2\u001b[0m beats2 \u001b[38;5;241m=\u001b[39m mf\u001b[38;5;241m.\u001b[39mtransitions\u001b[38;5;241m.\u001b[39mfeatures2\u001b[38;5;241m.\u001b[39mbeats()\n\u001b[0;32m----> 3\u001b[0m bpm1 \u001b[38;5;241m=\u001b[39m \u001b[43mmf\u001b[49m\u001b[38;5;241;43m.\u001b[39;49m\u001b[43mtransitions\u001b[49m\u001b[38;5;241;43m.\u001b[39;49m\u001b[43mfeatures1\u001b[49m\u001b[38;5;241;43m.\u001b[39;49m\u001b[43mbpm\u001b[49m\u001b[43m[\u001b[49m\u001b[38;5;241;43m0\u001b[39;49m\u001b[43m]\u001b[49m\n\u001b[1;32m      4\u001b[0m bpm2 \u001b[38;5;241m=\u001b[39m mf\u001b[38;5;241m.\u001b[39mtransitions\u001b[38;5;241m.\u001b[39mfeatures2\u001b[38;5;241m.\u001b[39mbpm[\u001b[38;5;241m0\u001b[39m]\n",
      "\u001b[0;31mTypeError\u001b[0m: 'method' object is not subscriptable"
     ]
    }
   ],
   "source": [
    "beats1 = mf.transitions.features1.beats()\n",
    "beats2 = mf.transitions.features2.beats()"
   ]
  },
  {
   "cell_type": "code",
   "execution_count": 8,
   "id": "ca65918c",
   "metadata": {},
   "outputs": [],
   "source": [
    "bpm1 = mf.transitions.features1.bpm()\n",
    "bpm2 = mf.transitions.features2.bpm()"
   ]
  },
  {
   "cell_type": "code",
   "execution_count": 6,
   "id": "f68be2ac",
   "metadata": {
    "collapsed": true
   },
   "outputs": [
    {
     "ename": "AttributeError",
     "evalue": "'DataFrame' object has no attribute 'bpm'",
     "output_type": "error",
     "traceback": [
      "\u001b[0;31m---------------------------------------------------------------------------\u001b[0m",
      "\u001b[0;31mAttributeError\u001b[0m                            Traceback (most recent call last)",
      "\u001b[0;32m/var/folders/v8/l9k84q0j5dvb69nc7wjtd5x80000gn/T/ipykernel_43047/1250472879.py\u001b[0m in \u001b[0;36m?\u001b[0;34m()\u001b[0m\n\u001b[1;32m      1\u001b[0m \u001b[0;31m#Usually the fourth loop cue is near the middle/end of the song.\u001b[0m\u001b[0;34m\u001b[0m\u001b[0;34m\u001b[0m\u001b[0m\n\u001b[1;32m      2\u001b[0m \u001b[0mstart_time\u001b[0m \u001b[0;34m=\u001b[0m \u001b[0mbeats2\u001b[0m\u001b[0;34m[\u001b[0m\u001b[0mbeats2\u001b[0m\u001b[0;34m.\u001b[0m\u001b[0mloop_cues\u001b[0m\u001b[0;34m.\u001b[0m\u001b[0mnotna\u001b[0m\u001b[0;34m(\u001b[0m\u001b[0;34m)\u001b[0m\u001b[0;34m]\u001b[0m\u001b[0;34m.\u001b[0m\u001b[0mloop_cues\u001b[0m\u001b[0;34m.\u001b[0m\u001b[0mvalues\u001b[0m\u001b[0;34m.\u001b[0m\u001b[0mtolist\u001b[0m\u001b[0;34m(\u001b[0m\u001b[0;34m)\u001b[0m\u001b[0;34m[\u001b[0m\u001b[0;34m-\u001b[0m\u001b[0;36m4\u001b[0m\u001b[0;34m]\u001b[0m\u001b[0;34m\u001b[0m\u001b[0;34m\u001b[0m\u001b[0m\n\u001b[1;32m      3\u001b[0m \u001b[0mend_time\u001b[0m \u001b[0;34m=\u001b[0m \u001b[0mbeats2\u001b[0m\u001b[0;34m[\u001b[0m\u001b[0mbeats2\u001b[0m\u001b[0;34m.\u001b[0m\u001b[0mloop_cues\u001b[0m\u001b[0;34m.\u001b[0m\u001b[0mnotna\u001b[0m\u001b[0;34m(\u001b[0m\u001b[0;34m)\u001b[0m\u001b[0;34m]\u001b[0m\u001b[0;34m.\u001b[0m\u001b[0mloop_cues\u001b[0m\u001b[0;34m.\u001b[0m\u001b[0mvalues\u001b[0m\u001b[0;34m.\u001b[0m\u001b[0mtolist\u001b[0m\u001b[0;34m(\u001b[0m\u001b[0;34m)\u001b[0m\u001b[0;34m[\u001b[0m\u001b[0;34m-\u001b[0m\u001b[0;36m2\u001b[0m\u001b[0;34m]\u001b[0m\u001b[0;34m\u001b[0m\u001b[0;34m\u001b[0m\u001b[0m\n\u001b[1;32m      4\u001b[0m \u001b[0mfade_dur2\u001b[0m \u001b[0;34m=\u001b[0m \u001b[0;36m20\u001b[0m\u001b[0;34m\u001b[0m\u001b[0;34m\u001b[0m\u001b[0m\n\u001b[0;32m----> 5\u001b[0;31m \u001b[0mbpm2\u001b[0m \u001b[0;34m=\u001b[0m \u001b[0mbeats2\u001b[0m\u001b[0;34m.\u001b[0m\u001b[0mbpm\u001b[0m\u001b[0;34m[\u001b[0m\u001b[0;36m0\u001b[0m\u001b[0;34m]\u001b[0m\u001b[0;34m\u001b[0m\u001b[0;34m\u001b[0m\u001b[0m\n\u001b[0m\u001b[1;32m      6\u001b[0m \u001b[0mbpm1\u001b[0m \u001b[0;34m=\u001b[0m \u001b[0mbeats1\u001b[0m\u001b[0;34m.\u001b[0m\u001b[0mbpm\u001b[0m\u001b[0;34m[\u001b[0m\u001b[0;36m0\u001b[0m\u001b[0;34m]\u001b[0m\u001b[0;34m\u001b[0m\u001b[0;34m\u001b[0m\u001b[0m\n\u001b[1;32m      7\u001b[0m \u001b[0;34m\u001b[0m\u001b[0m\n\u001b[1;32m      8\u001b[0m \u001b[0;34m\u001b[0m\u001b[0m\n",
      "\u001b[0;32m/Library/Frameworks/Python.framework/Versions/3.11/lib/python3.11/site-packages/pandas/core/generic.py\u001b[0m in \u001b[0;36m?\u001b[0;34m(self, name)\u001b[0m\n\u001b[1;32m   5985\u001b[0m             \u001b[0;32mand\u001b[0m \u001b[0mname\u001b[0m \u001b[0;32mnot\u001b[0m \u001b[0;32min\u001b[0m \u001b[0mself\u001b[0m\u001b[0;34m.\u001b[0m\u001b[0m_accessors\u001b[0m\u001b[0;34m\u001b[0m\u001b[0;34m\u001b[0m\u001b[0m\n\u001b[1;32m   5986\u001b[0m             \u001b[0;32mand\u001b[0m \u001b[0mself\u001b[0m\u001b[0;34m.\u001b[0m\u001b[0m_info_axis\u001b[0m\u001b[0;34m.\u001b[0m\u001b[0m_can_hold_identifiers_and_holds_name\u001b[0m\u001b[0;34m(\u001b[0m\u001b[0mname\u001b[0m\u001b[0;34m)\u001b[0m\u001b[0;34m\u001b[0m\u001b[0;34m\u001b[0m\u001b[0m\n\u001b[1;32m   5987\u001b[0m         ):\n\u001b[1;32m   5988\u001b[0m             \u001b[0;32mreturn\u001b[0m \u001b[0mself\u001b[0m\u001b[0;34m[\u001b[0m\u001b[0mname\u001b[0m\u001b[0;34m]\u001b[0m\u001b[0;34m\u001b[0m\u001b[0;34m\u001b[0m\u001b[0m\n\u001b[0;32m-> 5989\u001b[0;31m         \u001b[0;32mreturn\u001b[0m \u001b[0mobject\u001b[0m\u001b[0;34m.\u001b[0m\u001b[0m__getattribute__\u001b[0m\u001b[0;34m(\u001b[0m\u001b[0mself\u001b[0m\u001b[0;34m,\u001b[0m \u001b[0mname\u001b[0m\u001b[0;34m)\u001b[0m\u001b[0;34m\u001b[0m\u001b[0;34m\u001b[0m\u001b[0m\n\u001b[0m",
      "\u001b[0;31mAttributeError\u001b[0m: 'DataFrame' object has no attribute 'bpm'"
     ]
    }
   ],
   "source": [
    "#Usually the fourth loop cue is near the middle/end of the song.\n",
    "start_time = beats2[beats2.loop_cues.notna()].loop_cues.values.tolist()[-4]\n",
    "end_time = beats2[beats2.loop_cues.notna()].loop_cues.values.tolist()[-2]\n",
    "fade_dur2 = 20\n",
    "\n",
    "\n",
    "\n",
    "\n",
    "\n"
   ]
  },
  {
   "cell_type": "code",
   "execution_count": null,
   "id": "bd5a791e",
   "metadata": {},
   "outputs": [],
   "source": [
    "audio2 = speed_control(y2, sr2, start_time2, end_time2, bpm2, bpm1)\n",
    "audio2 = highpass_control(audio2,sr2, start_time2, end_time2, 250,5)\n",
    "audio2 = fade_out(audio2,end_time2, fade_dur2)\n",
    "\n",
    "#EDITING THE SECOND SONG\n",
    "fade_dur1 = 10\n",
    "\n",
    "audio1 = fade_in(y1,0.00,fade_dur1)\n",
    "\n",
    "df3 = markers(audio2)\n",
    "segment2 = df3[df3.loop_cues >= start_time2].loop_cues.values.tolist()[1]\n",
    "\n",
    "part_2_beg = list(audio2[:int(22050 * segment2)])\n",
    "part_2_end = list(audio2[int(22050 * segment2):])\n",
    "\n",
    "part_2_end_len = len(part_2_end)\n",
    "\n",
    "\n",
    "part_1_beg = list(audio1[:int(part_2_end_len)])\n",
    "part_1_end = list(audio1[int(part_2_end_len):])\n",
    "\n",
    "overlay = np.array(part_2_end) + np.array(part_1_beg)\n",
    "full_audio = list(part_2_beg) + list(overlay) + list(part_1_end)\n",
    "\n",
    "return full_audio"
   ]
  }
 ],
 "metadata": {
  "kernelspec": {
   "display_name": "Python 3 (ipykernel)",
   "language": "python",
   "name": "python3"
  },
  "language_info": {
   "codemirror_mode": {
    "name": "ipython",
    "version": 3
   },
   "file_extension": ".py",
   "mimetype": "text/x-python",
   "name": "python",
   "nbconvert_exporter": "python",
   "pygments_lexer": "ipython3",
   "version": "3.11.3"
  }
 },
 "nbformat": 4,
 "nbformat_minor": 5
}
